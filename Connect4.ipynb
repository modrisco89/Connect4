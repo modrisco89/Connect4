{
 "cells": [
  {
   "cell_type": "code",
   "execution_count": 4,
   "metadata": {},
   "outputs": [],
   "source": [
    "from IPython.display import clear_output\n",
    "\n",
    "def display_board(board):\n",
    "    print(\"0\"+'¦'+\"1\"+'¦'+\"2\"+'¦'+\"3\" +'¦'+\"4\"+'¦'+\"5\"+'¦'+\"6\")\n",
    "    print(\"-------------\")\n",
    "    print(board[0]+'¦'+board[1]+'¦'+board[2]+'¦'+board[3] +'¦'+board[4]+'¦'+board[5]+'¦'+board[6])\n",
    "    print(\"-------------\")\n",
    "    print(board[7]+'¦'+board[8]+'¦'+board[9]+'¦'+board[10] +'¦'+board[11]+'¦'+board[12]+'¦'+board[13])\n",
    "    print(\"-------------\")\n",
    "    print(board[14]+'¦'+board[15]+'¦'+board[16]+'¦'+board[17] +'¦'+board[18]+'¦'+board[19]+'¦'+board[20])\n",
    "    print(\"-------------\")\n",
    "    print(board[21]+'¦'+board[22]+'¦'+board[23]+'¦'+board[24] +'¦'+board[25]+'¦'+board[26]+'¦'+board[27])\n",
    "    print(\"-------------\")\n",
    "    print(board[28]+'¦'+board[29]+'¦'+board[30]+'¦'+board[31] +'¦'+board[32]+'¦'+board[33]+'¦'+board[34])\n",
    "    print(\"-------------\")\n",
    "    print(board[35]+'¦'+board[36]+'¦'+board[37]+'¦'+board[38] +'¦'+board[39]+'¦'+board[40]+'¦'+board[41])"
   ]
  },
  {
   "cell_type": "code",
   "execution_count": 5,
   "metadata": {},
   "outputs": [],
   "source": [
    "test_board = [' ',' ',' ',' ',' ',' ',' ',' ',' ',' ',' ',' ',' ',' ',' ',' ',' ',' ',' ',' ',' ',' ',' ',' ',' ',' ',' ',' ',' ',' ',' ',' ',' ',' ',' ',' ',' ',' ',' ',' ',' ',' ']"
   ]
  },
  {
   "cell_type": "code",
   "execution_count": 6,
   "metadata": {},
   "outputs": [
    {
     "name": "stdout",
     "output_type": "stream",
     "text": [
      "0¦1¦2¦3¦4¦5¦6\n",
      "-------------\n",
      " ¦ ¦ ¦ ¦ ¦ ¦ \n",
      "-------------\n",
      " ¦ ¦ ¦ ¦ ¦ ¦ \n",
      "-------------\n",
      " ¦ ¦ ¦ ¦ ¦ ¦ \n",
      "-------------\n",
      " ¦ ¦ ¦ ¦ ¦ ¦ \n",
      "-------------\n",
      " ¦ ¦ ¦ ¦ ¦ ¦ \n",
      "-------------\n",
      " ¦ ¦ ¦ ¦ ¦ ¦ \n"
     ]
    }
   ],
   "source": [
    "display_board(test_board)"
   ]
  },
  {
   "cell_type": "code",
   "execution_count": 7,
   "metadata": {},
   "outputs": [],
   "source": [
    "def number_choice(x):\n",
    "    import time\n",
    "    playerchoice = 7\n",
    "    lo = 0\n",
    "    int(lo)\n",
    "    global n\n",
    "    n = 0\n",
    "    \n",
    "    while playerchoice not in range(0,7):\n",
    "        playerchoice = int(input(x+\" choose a column number between 0 to 6 \"))\n",
    "        listcheck.append(playerchoice)\n",
    "        if listcheck[0] == 7:\n",
    "            listcheck.pop(0)\n",
    "        print(listcheck)\n",
    "        n = listcheck.count(playerchoice)\n",
    "        p = 35\n",
    "        lo = playerchoice + p\n",
    "        print(n)\n",
    "        if n > 1:\n",
    "            lo = lo - (7*(n-1))\n",
    "        time.sleep(2)\n",
    "        clear_output()\n",
    "        if playerchoice in range(0,7) and test_board[playerchoice] == ' ':\n",
    "            test_board[lo] = x\n",
    "            display_board(test_board)\n",
    "            break\n",
    "        if test_board[playerchoice] != ' ':\n",
    "            display_board(test_board)\n",
    "            playerchoice = int(input(x+\" please select a different number.. \"))\n",
    "            n = listcheck.count(playerchoice)\n",
    "            listcheck.append(playerchoice)\n",
    "            p = 35\n",
    "            lo = playerchoice + p\n",
    "            print(n)\n",
    "            if n > 1:\n",
    "                lo = lo - (7*(n-1))\n",
    "            test_board[lo] = x\n",
    "            display_board(test_board)\n",
    "            break"
   ]
  },
  {
   "cell_type": "code",
   "execution_count": 8,
   "metadata": {},
   "outputs": [],
   "source": [
    "def winner_check(x):\n",
    "\n",
    "    if test_board[1] == x and test_board[5] == x and test_board[9] == x:\n",
    "        print(x+\" wins!\")\n",
    "        return True\n",
    "    elif test_board[3] == x and test_board[5] == x and test_board[7] == x:\n",
    "        print(x+\" wins!\")\n",
    "        return True\n",
    "    elif test_board[1] == x and test_board[2] == x and test_board[3] == x:\n",
    "        print(x+\" wins!\")\n",
    "        return True\n",
    "    elif test_board[4] == x and test_board[5] == x and test_board[6] == x:\n",
    "        print(x+\" wins!\")\n",
    "        return True\n",
    "    elif test_board[7] == x and test_board[8] == x and test_board[9] == x:\n",
    "        print(x+\" wins!\")\n",
    "        return True\n",
    "    elif test_board[1] == x and test_board[4] == x and test_board[7] == x:\n",
    "        print(x+\" wins!\")\n",
    "        return True\n",
    "    elif test_board[2] == x and test_board[5] == x and test_board[8] == x:\n",
    "        print(x+\" wins!\")\n",
    "        return True\n",
    "    elif test_board[3] == x and test_board[6] == x and test_board[9] == x:\n",
    "        print(x+\" wins!\")\n",
    "        return True\n",
    "    elif \" \" not in test_board:\n",
    "        print(\"DRAW!\")\n",
    "        return True"
   ]
  },
  {
   "cell_type": "markdown",
   "metadata": {},
   "source": [
    "\n"
   ]
  },
  {
   "cell_type": "code",
   "execution_count": 9,
   "metadata": {
    "scrolled": true
   },
   "outputs": [],
   "source": [
    "def player_choice():\n",
    "    from IPython.display import clear_output\n",
    "    import time\n",
    "    player1 = \" \"\n",
    "    playagain = \" \"\n",
    "    global test_board\n",
    "    global listcheck\n",
    "    listcheck = []\n",
    "    while player1 != \"X\" or player1 != \"O\":\n",
    "        player1 = input(\"Player 1, please select 'X' or 'O'  \")\n",
    "        time.sleep(2)\n",
    "        clear_output()\n",
    "        if player1 == \"X\":\n",
    "            player2 = \"O\"\n",
    "            print(\"Player 1 is 'X' and Player 2 is 'O'\")\n",
    "            print(\" \")\n",
    "            print(\"Select a number below\")\n",
    "            print(\" \")\n",
    "            while \" \" in test_board:\n",
    "                number_choice(player1)\n",
    "                if winner_check(player1):\n",
    "                    break\n",
    "                if winner_check(player2):\n",
    "                    break\n",
    "                number_choice(player2)\n",
    "                if winner_check(player1):\n",
    "                    break\n",
    "                if winner_check(player2):\n",
    "                    break\n",
    "            break\n",
    "        if player1 == \"O\":\n",
    "            player2 = \"X\"\n",
    "            print(\"Player 1 is 'O' and Player 2 is 'X'\")\n",
    "            print(\" \")\n",
    "            print(\"Select a number below\")\n",
    "            print(\" \")\n",
    "            while \" \" in test_board:\n",
    "                number_choice(player1)\n",
    "                if winner_check(player1):\n",
    "                    break\n",
    "                if winner_check(player2):\n",
    "                    break\n",
    "                number_choice(player2)\n",
    "                if winner_check(player1):\n",
    "                    break\n",
    "                if winner_check(player2):\n",
    "                    break\n",
    "            break\n",
    "    while playagain != \"Y\" or playagain != \"N\":\n",
    "        \n",
    "        if playagain == \"Y\":\n",
    "            clear_output()\n",
    "            test_board = [' ',' ',' ',' ',' ',' ',' ',' ',' ',' ',' ',' ',' ',' ',' ',' ',' ',' ',' ',' ',' ',' ',' ',' ',' ',' ',' ',' ',' ',' ',' ',' ',' ',' ',' ',' ',' ',' ',' ',' ',' ',' ']\n",
    "            player_choice()\n",
    "        if playagain == \"N\":\n",
    "            clear_output()\n",
    "            test_board = [' ',' ',' ',' ',' ',' ',' ',' ',' ',' ',' ',' ',' ',' ',' ',' ',' ',' ',' ',' ',' ',' ',' ',' ',' ',' ',' ',' ',' ',' ',' ',' ',' ',' ',' ',' ',' ',' ',' ',' ',' ',' ']\n",
    "            print(\"Goodbye\")\n",
    "            time.sleep(5)\n",
    "            break \n",
    "        playagain = input(\"Would you like to play again Y or N?\")\n",
    "    clear_output()"
   ]
  },
  {
   "cell_type": "code",
   "execution_count": null,
   "metadata": {},
   "outputs": [
    {
     "name": "stdout",
     "output_type": "stream",
     "text": [
      "0¦1¦2¦3¦4¦5¦6\n",
      "-------------\n",
      "O¦ ¦ ¦ ¦ ¦ ¦ \n",
      "-------------\n",
      "X¦ ¦ ¦ ¦ ¦ ¦ \n",
      "-------------\n",
      "O¦ ¦ ¦ ¦ ¦ ¦ \n",
      "-------------\n",
      "X¦ ¦ ¦ ¦ ¦ ¦ \n",
      "-------------\n",
      "O¦ ¦ ¦ ¦ ¦ ¦ \n",
      "-------------\n",
      "X¦O¦X¦ ¦ ¦ ¦ \n"
     ]
    }
   ],
   "source": [
    "player_choice()"
   ]
  },
  {
   "cell_type": "markdown",
   "metadata": {},
   "source": []
  },
  {
   "cell_type": "code",
   "execution_count": null,
   "metadata": {},
   "outputs": [],
   "source": []
  }
 ],
 "metadata": {
  "kernelspec": {
   "display_name": "Python 3",
   "language": "python",
   "name": "python3"
  },
  "language_info": {
   "codemirror_mode": {
    "name": "ipython",
    "version": 3
   },
   "file_extension": ".py",
   "mimetype": "text/x-python",
   "name": "python",
   "nbconvert_exporter": "python",
   "pygments_lexer": "ipython3",
   "version": "3.8.5"
  }
 },
 "nbformat": 4,
 "nbformat_minor": 4
}
